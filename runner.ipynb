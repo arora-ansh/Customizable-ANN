{
	"cells": [
		{
			"cell_type": "code",
			"execution_count": 5,
			"metadata": {},
			"outputs": [],
			"source": [
				"import numpy as np\n",
				"import matplotlib.pyplot as plt\n",
				"import pandas as pd\n",
				"\n",
				"from net.model import Model\n",
				"from net.layer import Dense\n",
				"from net.activations import ReLU, TanH, Softmax, Sigmoid\n",
				"from net.optimizers import GradientDescent, Momentum, AdaGrad, RMSProp, Adam\n",
				"from net.loss import CategoricalCrossEntropy, MSE\n",
				"\n",
				"train_df = pd.read_csv(\"./data/train.csv\")\n",
				"test_df = pd.read_csv(\"./data/test.csv\")\n",
				"\n",
				"def parse_df(df):\n",
				"    values = df['label'].values\n",
				"    n_values = np.max(values) + 1\n",
				"    y = np.eye(n_values)[values]\n",
				"    \n",
				"    df = df.drop('label', axis=1)\n",
				"    x = df.to_numpy()\n",
				"    return x, y\n",
				"\n",
				"\n",
				"x_test, y_test = parse_df(test_df)\n",
				"x_train, y_train = parse_df(train_df)\n",
				"PATH = \"./models/model.pkl\""
			]
		},
		{
			"cell_type": "code",
			"execution_count": 6,
			"metadata": {},
			"outputs": [
				{
					"name": "stdout",
					"output_type": "stream",
					"text": [
						"(60000, 10)\n",
						"(60000, 784)\n"
					]
				}
			],
			"source": [
				"print(y_train.shape)\n",
				"print(x_train.shape)"
			]
		},
		{
			"cell_type": "code",
			"execution_count": 62,
			"metadata": {},
			"outputs": [
				{
					"name": "stdout",
					"output_type": "stream",
					"text": [
						"[1 / 20] - Loss: 0.00243520230537949 | Acc: 80.25166666666667 | TestAcc: 79.95\n",
						"[2 / 20] - Loss: 0.0014650533256231801 | Acc: 85.92833333333333 | TestAcc: 85.53\n",
						"[3 / 20] - Loss: 0.001238627993375209 | Acc: 87.32 | TestAcc: 86.77\n",
						"[4 / 20] - Loss: 0.0012311686175223294 | Acc: 88.30666666666667 | TestAcc: 87.32\n",
						"[5 / 20] - Loss: 0.0012543829093838539 | Acc: 88.84833333333333 | TestAcc: 87.49\n",
						"[6 / 20] - Loss: 0.0011824148871154496 | Acc: 89.145 | TestAcc: 87.67\n",
						"[7 / 20] - Loss: 0.0011441438420996747 | Acc: 89.53333333333333 | TestAcc: 87.94999999999999\n",
						"[8 / 20] - Loss: 0.001121364758018751 | Acc: 89.88333333333334 | TestAcc: 88.22\n",
						"[9 / 20] - Loss: 0.0011411453089418878 | Acc: 90.16333333333333 | TestAcc: 88.42\n",
						"[10 / 20] - Loss: 0.0011580872634131699 | Acc: 90.32166666666667 | TestAcc: 88.53\n",
						"[11 / 20] - Loss: 0.0011537054630627727 | Acc: 90.65166666666667 | TestAcc: 88.53999999999999\n",
						"[12 / 20] - Loss: 0.0011869942734775906 | Acc: 90.96333333333332 | TestAcc: 88.79\n",
						"[13 / 20] - Loss: 0.0011602404795287072 | Acc: 91.175 | TestAcc: 88.82\n",
						"[14 / 20] - Loss: 0.0012012104500465632 | Acc: 91.405 | TestAcc: 88.86\n",
						"[15 / 20] - Loss: 0.0012178858352179084 | Acc: 91.40666666666667 | TestAcc: 88.72\n",
						"[16 / 20] - Loss: 0.0012471789517217277 | Acc: 91.71333333333334 | TestAcc: 88.79\n",
						"[17 / 20] - Loss: 0.0012685886832089143 | Acc: 92.03833333333333 | TestAcc: 88.92\n",
						"[18 / 20] - Loss: 0.0012910656498280485 | Acc: 92.04666666666667 | TestAcc: 88.98\n",
						"[19 / 20] - Loss: 0.0013193936190325165 | Acc: 92.18333333333332 | TestAcc: 89.19\n",
						"[20 / 20] - Loss: 0.0012905397122397262 | Acc: 92.29333333333334 | TestAcc: 89.08\n"
					]
				},
				{
					"data": {
						"image/png": "[encoded data removed]",
						"text/plain": [
							"<Figure size 432x288 with 1 Axes>"
						]
					},
					"metadata": {
						"needs_background": "light"
					},
					"output_type": "display_data"
				},
				{
					"data": {
						"image/png": "[encoded data removed]",
						"text/plain": [
							"<Figure size 432x288 with 1 Axes>"
						]
					},
					"metadata": {
						"needs_background": "light"
					},
					"output_type": "display_data"
				},
				{
					"name": "stdout",
					"output_type": "stream",
					"text": [
						"[ SAVED ] To './models/model.pkl'\n"
					]
				}
			],
			"source": [
				"\n",
				"model = Model([\n",
				"    Dense(784, 128),\n",
				"    ReLU(),\n",
				"    Dense(128, 64),\n",
				"    ReLU(),\n",
				"    Dense(64, 10),\n",
				"    Sigmoid(),\n",
				"])\n",
				"\n",
				"model.compile(loss=CategoricalCrossEntropy(), optimizer=Adam(model, learning_rate=4e-3, beta=0.9, lam=0.9))\n",
				"\n",
				"loss_hist, acc_hist, test_acc_hist = model.fit(\n",
				"    x_train, y_train,\n",
				"    epochs=20, batch_size=200, log_freq = 1\n",
				"    , test_x=x_test, test_y=y_test\n",
				")\n",
				"\n",
				"plt.plot(loss_hist)\n",
				"plt.show()\n",
				"\n",
				"plt.plot(test_acc_hist)\n",
				"plt.show()\n",
				"\n",
				"model.save(path=PATH)"
			]
		},
		{
			"cell_type": "code",
			"execution_count": 7,
			"metadata": {},
			"outputs": [
				{
					"name": "stdout",
					"output_type": "stream",
					"text": [
						"Accuracy: 89.08\n"
					]
				}
			],
			"source": [
				"model = Model.load(\"./models/model.pkl\")\n",
				"print(f\"Accuracy: {model.accuracy(x_test, y_test)}\")"
			]
		}
	],
	"metadata": {
		"interpreter": {
			"hash": "f79f93136b3ce908c3cde15dd22e0330cd54c71508f45101b748d12c7072454a"
		},
		"kernelspec": {
			"display_name": "Python 3.8.2 64-bit",
			"language": "python",
			"name": "python3"
		},
		"language_info": {
			"codemirror_mode": {
				"name": "ipython",
				"version": 3
			},
			"file_extension": ".py",
			"mimetype": "text/x-python",
			"name": "python",
			"nbconvert_exporter": "python",
			"pygments_lexer": "ipython3",
			"version": "3.8.3"
		},
		"toc": {
			"base_numbering": 1,
			"nav_menu": {},
			"number_sections": false,
			"sideBar": false,
			"skip_h1_title": true,
			"title_cell": "Table of Contents",
			"title_sidebar": "Contents",
			"toc_cell": false,
			"toc_position": {
				"height": "46.8889px",
				"left": "1545.67px",
				"top": "90px",
				"width": "161px"
			},
			"toc_section_display": false,
			"toc_window_display": false
		},
		"varInspector": {
			"cols": {
				"lenName": 16,
				"lenType": 16,
				"lenVar": "100"
			},
			"kernels_config": {
				"python": {
					"delete_cmd_postfix": "",
					"delete_cmd_prefix": "del ",
					"library": "var_list.py",
					"varRefreshCmd": "print(var_dic_list())"
				},
				"r": {
					"delete_cmd_postfix": ") ",
					"delete_cmd_prefix": "rm(",
					"library": "var_list.r",
					"varRefreshCmd": "cat(var_dic_list()) "
				}
			},
			"types_to_exclude": [
				"module",
				"function",
				"builtin_function_or_method",
				"instance",
				"_Feature"
			],
			"window_display": false
		}
	},
	"nbformat": 4,
	"nbformat_minor": 4
}
